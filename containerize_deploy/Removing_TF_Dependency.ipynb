{
 "cells": [
  {
   "cell_type": "code",
   "execution_count": 8,
   "id": "4e721b74",
   "metadata": {},
   "outputs": [],
   "source": [
    "import numpy as np"
   ]
  },
  {
   "cell_type": "code",
   "execution_count": 9,
   "id": "ad7a8803",
   "metadata": {},
   "outputs": [],
   "source": [
    "#!pip install keras-image-helper"
   ]
  },
  {
   "cell_type": "code",
   "execution_count": 10,
   "id": "eae23034",
   "metadata": {},
   "outputs": [],
   "source": [
    "#!pip install --extra-index-url https://google-coral.github.io/py-repo/ tflite_runtime"
   ]
  },
  {
   "cell_type": "code",
   "execution_count": 11,
   "id": "687e9e82",
   "metadata": {},
   "outputs": [],
   "source": [
    "import tflite_runtime.interpreter as tflite\n",
    "from keras_image_helper import create_preprocessor"
   ]
  },
  {
   "cell_type": "code",
   "execution_count": 12,
   "id": "83357c53",
   "metadata": {},
   "outputs": [],
   "source": [
    "interpreter = tflite.Interpreter(model_path='scene-classifier-model.tflite')\n",
    "interpreter.allocate_tensors()\n",
    "\n",
    "input_index = interpreter.get_input_details()[0]['index']\n",
    "output_index = interpreter.get_output_details()[0]['index']"
   ]
  },
  {
   "cell_type": "code",
   "execution_count": 13,
   "id": "45f420e0",
   "metadata": {},
   "outputs": [],
   "source": [
    "# preprocessor for MobileNet is same as for Xception in keras-image-helper\n",
    "preprocessor = create_preprocessor('xception', target_size=(224, 224))"
   ]
  },
  {
   "cell_type": "code",
   "execution_count": 14,
   "id": "e3b6f200",
   "metadata": {},
   "outputs": [],
   "source": [
    "# get the image via URL\n",
    "url = 'https://unsplash.com/photos/dR_q93lfaTw/download?ixid=MnwxMjA3fDB8MXxhbGx8fHx8fHx8fHwxNjc0NjQ1Njc3&force=true&w=640'\n",
    "X = preprocessor.from_url(url)"
   ]
  },
  {
   "cell_type": "code",
   "execution_count": 15,
   "id": "f5280c46",
   "metadata": {},
   "outputs": [],
   "source": [
    "interpreter.set_tensor(input_index, X)\n",
    "interpreter.invoke()\n",
    "preds = interpreter.get_tensor(output_index)"
   ]
  },
  {
   "cell_type": "code",
   "execution_count": 16,
   "id": "20ee7dbc",
   "metadata": {},
   "outputs": [
    {
     "data": {
      "text/plain": [
       "{'coast': -1.1973078, 'forest': -7.126517, 'mountain': 3.2565804}"
      ]
     },
     "execution_count": 16,
     "metadata": {},
     "output_type": "execute_result"
    }
   ],
   "source": [
    "classes = ['coast', 'forest', 'mountain']\n",
    "\n",
    "dict(zip(classes, preds[0]))"
   ]
  },
  {
   "cell_type": "code",
   "execution_count": 17,
   "id": "28b3fd87",
   "metadata": {},
   "outputs": [],
   "source": [
    "# The prediction results are the same as when the prediction was run with tensorflow preprocessing"
   ]
  },
  {
   "cell_type": "code",
   "execution_count": null,
   "id": "54abdd32",
   "metadata": {},
   "outputs": [],
   "source": []
  }
 ],
 "metadata": {
  "kernelspec": {
   "display_name": "ml-zoomcamp",
   "language": "python",
   "name": "ml-zoomcamp"
  },
  "language_info": {
   "codemirror_mode": {
    "name": "ipython",
    "version": 3
   },
   "file_extension": ".py",
   "mimetype": "text/x-python",
   "name": "python",
   "nbconvert_exporter": "python",
   "pygments_lexer": "ipython3",
   "version": "3.9.13"
  }
 },
 "nbformat": 4,
 "nbformat_minor": 5
}
