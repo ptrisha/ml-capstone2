{
 "cells": [
  {
   "cell_type": "code",
   "execution_count": 1,
   "id": "5e4e7428",
   "metadata": {},
   "outputs": [
    {
     "name": "stderr",
     "output_type": "stream",
     "text": [
      "2023-01-26 05:02:03.828778: I tensorflow/core/platform/cpu_feature_guard.cc:193] This TensorFlow binary is optimized with oneAPI Deep Neural Network Library (oneDNN) to use the following CPU instructions in performance-critical operations:  AVX2 FMA\n",
      "To enable them in other operations, rebuild TensorFlow with the appropriate compiler flags.\n"
     ]
    },
    {
     "data": {
      "text/plain": [
       "'2.11.0'"
      ]
     },
     "execution_count": 1,
     "metadata": {},
     "output_type": "execute_result"
    }
   ],
   "source": [
    "import numpy as np\n",
    "\n",
    "import tensorflow as tf\n",
    "from tensorflow import keras\n",
    "\n",
    "tf.__version__"
   ]
  },
  {
   "cell_type": "code",
   "execution_count": 3,
   "id": "cef5801a",
   "metadata": {},
   "outputs": [
    {
     "name": "stdout",
     "output_type": "stream",
     "text": [
      "--2023-01-26 05:05:23--  https://unsplash.com/photos/dR_q93lfaTw/download?ixid=MnwxMjA3fDB8MXxhbGx8fHx8fHx8fHwxNjc0NjQ1Njc3&force=true&w=640\n",
      "Resolving unsplash.com (unsplash.com)... 151.101.65.181, 151.101.129.181, 151.101.193.181, ...\n",
      "Connecting to unsplash.com (unsplash.com)|151.101.65.181|:443... connected.\n",
      "HTTP request sent, awaiting response... 302 Found\n",
      "Location: https://images.unsplash.com/photo-1486870591958-9b9d0d1dda99?ixlib=rb-4.0.3&dl=jeremy-bishop-dR_q93lfaTw-unsplash.jpg&w=640&q=80&fm=jpg&crop=entropy&cs=tinysrgb [following]\n",
      "--2023-01-26 05:05:24--  https://images.unsplash.com/photo-1486870591958-9b9d0d1dda99?ixlib=rb-4.0.3&dl=jeremy-bishop-dR_q93lfaTw-unsplash.jpg&w=640&q=80&fm=jpg&crop=entropy&cs=tinysrgb\n",
      "Resolving images.unsplash.com (images.unsplash.com)... 2a04:4e42:48::720, 199.232.46.208\n",
      "Connecting to images.unsplash.com (images.unsplash.com)|2a04:4e42:48::720|:443... connected.\n",
      "HTTP request sent, awaiting response... 200 OK\n",
      "Length: 66191 (65K) [image/jpeg]\n",
      "Saving to: ‘mountain.jpg’\n",
      "\n",
      "mountain.jpg        100%[===================>]  64.64K  --.-KB/s    in 0.02s   \n",
      "\n",
      "2023-01-26 05:05:24 (4.17 MB/s) - ‘mountain.jpg’ saved [66191/66191]\n",
      "\n"
     ]
    }
   ],
   "source": [
    "!wget \"https://unsplash.com/photos/dR_q93lfaTw/download?ixid=MnwxMjA3fDB8MXxhbGx8fHx8fHx8fHwxNjc0NjQ1Njc3&force=true&w=640\" -O mountain.jpg"
   ]
  },
  {
   "cell_type": "code",
   "execution_count": 4,
   "id": "1f5ae3c0",
   "metadata": {},
   "outputs": [],
   "source": [
    "from tensorflow.keras.preprocessing.image import load_img\n",
    "from tensorflow.keras.applications.mobilenet import preprocess_input"
   ]
  },
  {
   "cell_type": "code",
   "execution_count": 5,
   "id": "da03b1b1",
   "metadata": {},
   "outputs": [],
   "source": [
    "model = keras.models.load_model('mobilenet_v1_03_1.000.h5')"
   ]
  },
  {
   "cell_type": "code",
   "execution_count": 6,
   "id": "f8e2742b",
   "metadata": {},
   "outputs": [],
   "source": [
    "img = load_img('mountain.jpg', target_size=(224, 224))\n",
    "\n",
    "x = np.array(img)\n",
    "X = np.array([x])\n",
    "\n",
    "X = preprocess_input(X)"
   ]
  },
  {
   "cell_type": "code",
   "execution_count": 7,
   "id": "ea6659f9",
   "metadata": {},
   "outputs": [
    {
     "name": "stdout",
     "output_type": "stream",
     "text": [
      "1/1 [==============================] - 1s 572ms/step\n"
     ]
    }
   ],
   "source": [
    "preds = model.predict(X)"
   ]
  },
  {
   "cell_type": "code",
   "execution_count": 8,
   "id": "1110bc43",
   "metadata": {},
   "outputs": [
    {
     "data": {
      "text/plain": [
       "array([-1.1973168, -7.126512 ,  3.2565868], dtype=float32)"
      ]
     },
     "execution_count": 8,
     "metadata": {},
     "output_type": "execute_result"
    }
   ],
   "source": [
    "preds[0]"
   ]
  },
  {
   "cell_type": "code",
   "execution_count": 9,
   "id": "6a92b03c",
   "metadata": {},
   "outputs": [],
   "source": [
    "classes = ['coast', 'forest', 'mountain']"
   ]
  },
  {
   "cell_type": "code",
   "execution_count": 10,
   "id": "3adfd40c",
   "metadata": {},
   "outputs": [
    {
     "data": {
      "text/plain": [
       "{'coast': -1.1973168, 'forest': -7.126512, 'mountain': 3.2565868}"
      ]
     },
     "execution_count": 10,
     "metadata": {},
     "output_type": "execute_result"
    }
   ],
   "source": [
    "dict(zip(classes, preds[0]))"
   ]
  },
  {
   "cell_type": "markdown",
   "id": "bbd7a5ab",
   "metadata": {},
   "source": [
    "### Convert the model to TF-Lite "
   ]
  },
  {
   "cell_type": "code",
   "execution_count": 11,
   "id": "606324d9",
   "metadata": {},
   "outputs": [
    {
     "name": "stderr",
     "output_type": "stream",
     "text": [
      "WARNING:absl:Found untraced functions such as _jit_compiled_convolution_op, _jit_compiled_convolution_op, _jit_compiled_convolution_op, _jit_compiled_convolution_op, _jit_compiled_convolution_op while saving (showing 5 of 27). These functions will not be directly callable after loading.\n"
     ]
    },
    {
     "name": "stdout",
     "output_type": "stream",
     "text": [
      "INFO:tensorflow:Assets written to: /var/folders/q6/4vk5yrts387cp_3qs430rhqc0000gn/T/tmpy8fza4rb/assets\n"
     ]
    },
    {
     "name": "stderr",
     "output_type": "stream",
     "text": [
      "INFO:tensorflow:Assets written to: /var/folders/q6/4vk5yrts387cp_3qs430rhqc0000gn/T/tmpy8fza4rb/assets\n",
      "2023-01-26 05:13:07.400354: W tensorflow/compiler/mlir/lite/python/tf_tfl_flatbuffer_helpers.cc:362] Ignored output_format.\n",
      "2023-01-26 05:13:07.400384: W tensorflow/compiler/mlir/lite/python/tf_tfl_flatbuffer_helpers.cc:365] Ignored drop_control_dependency.\n"
     ]
    }
   ],
   "source": [
    "converter = tf.lite.TFLiteConverter.from_keras_model(model)\n",
    "\n",
    "tflite_model = converter.convert()\n",
    "\n",
    "with open('scene-classifier-model.tflite', 'wb') as f_out:\n",
    "    f_out.write(tflite_model)"
   ]
  },
  {
   "cell_type": "code",
   "execution_count": null,
   "id": "40ae4edb",
   "metadata": {},
   "outputs": [],
   "source": []
  },
  {
   "cell_type": "markdown",
   "id": "4333b05a",
   "metadata": {},
   "source": [
    "## Using the TF-Lite Model"
   ]
  },
  {
   "cell_type": "code",
   "execution_count": 13,
   "id": "f303096e",
   "metadata": {},
   "outputs": [],
   "source": [
    "import tensorflow.lite as tflite"
   ]
  },
  {
   "cell_type": "code",
   "execution_count": 14,
   "id": "5dc0f537",
   "metadata": {},
   "outputs": [],
   "source": [
    "interpreter = tflite.Interpreter(model_path='scene-classifier-model.tflite')\n",
    "interpreter.allocate_tensors()"
   ]
  },
  {
   "cell_type": "code",
   "execution_count": 17,
   "id": "77bf8f72",
   "metadata": {},
   "outputs": [],
   "source": [
    "input_index = interpreter.get_input_details()[0]['index']\n",
    "output_index = interpreter.get_output_details()[0]['index']"
   ]
  },
  {
   "cell_type": "code",
   "execution_count": 18,
   "id": "47b8bf44",
   "metadata": {},
   "outputs": [],
   "source": [
    "interpreter.set_tensor(input_index, X)\n",
    "interpreter.invoke()\n",
    "preds = interpreter.get_tensor(output_index)"
   ]
  },
  {
   "cell_type": "code",
   "execution_count": 20,
   "id": "15ef801f",
   "metadata": {},
   "outputs": [
    {
     "data": {
      "text/plain": [
       "{'coast': -1.1973078, 'forest': -7.126517, 'mountain': 3.2565804}"
      ]
     },
     "execution_count": 20,
     "metadata": {},
     "output_type": "execute_result"
    }
   ],
   "source": [
    "classes = ['coast', 'forest', 'mountain']\n",
    "dict(zip(classes, preds[0]))"
   ]
  },
  {
   "cell_type": "markdown",
   "id": "99ead948",
   "metadata": {},
   "source": [
    "We've verified that the result from the TF-Lite model is the same as the original model."
   ]
  },
  {
   "cell_type": "code",
   "execution_count": null,
   "id": "7849e16d",
   "metadata": {},
   "outputs": [],
   "source": []
  }
 ],
 "metadata": {
  "kernelspec": {
   "display_name": "ml-zoomcamp",
   "language": "python",
   "name": "ml-zoomcamp"
  },
  "language_info": {
   "codemirror_mode": {
    "name": "ipython",
    "version": 3
   },
   "file_extension": ".py",
   "mimetype": "text/x-python",
   "name": "python",
   "nbconvert_exporter": "python",
   "pygments_lexer": "ipython3",
   "version": "3.9.13"
  }
 },
 "nbformat": 4,
 "nbformat_minor": 5
}
